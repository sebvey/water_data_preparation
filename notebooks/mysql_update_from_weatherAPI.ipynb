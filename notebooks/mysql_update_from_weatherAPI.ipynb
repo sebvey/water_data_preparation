{
 "cells": [
  {
   "cell_type": "code",
   "execution_count": 26,
   "id": "0f3722a0",
   "metadata": {},
   "outputs": [],
   "source": [
    "import os, re\n",
    "from dotenv import dotenv_values\n",
    "\n",
    "from sqlalchemy import create_engine, text\n",
    "\n",
    "from datetime import date,timedelta\n",
    "import pandas as pd\n",
    "\n",
    "import requests"
   ]
  },
  {
   "cell_type": "markdown",
   "id": "d78d642a",
   "metadata": {},
   "source": [
    "## Configuration (SQL, WeatherAPI, station informations)"
   ]
  },
  {
   "cell_type": "code",
   "execution_count": 27,
   "id": "1fbfed4c",
   "metadata": {},
   "outputs": [],
   "source": [
    "# Settings from .env file\n",
    "\n",
    "settings = dotenv_values()\n",
    "\n",
    "# SQL CONFIG\n",
    "\n",
    "settings = dotenv_values() # Loads settings from .env file\n",
    "ROOT='..' # relative path to the root of the project\n",
    "\n",
    "db_uri = (\n",
    "    f\"mysql+pymysql://{settings['SQL_USER']}:{settings['SQL_PWD']}\"\n",
    "    f\"@{settings['SQL_HOST']}/{settings['SQL_DB']}\"\n",
    "    f\"?ssl_ca={os.path.join(ROOT,settings['SQL_SSL_CA'])}\"\n",
    "    f\"&ssl_cert={os.path.join(ROOT,settings['SQL_SSL_CERT'])}\"\n",
    "    f\"&ssl_key={os.path.join(ROOT,settings['SQL_SSL_KEY'])}\"\n",
    "    f\"&ssl_check_hostname=false\"\n",
    ")\n",
    "\n",
    "engine = create_engine(db_uri,echo=False, future=False)\n",
    "\n",
    "# WeatherAPI CONFIG\n",
    "\n",
    "url = 'http://api.weatherapi.com/v1/history.json'\n",
    "key = settings['WA_KEY']\n",
    "\n",
    "# Stations Dataframe\n",
    "\n",
    "stations = pd.read_csv('../data/stations/stations.csv')\n",
    "stations = stations.set_index('station_id')"
   ]
  },
  {
   "cell_type": "markdown",
   "id": "1b1ca90e",
   "metadata": {},
   "source": [
    "## Weather History From weatherAPI"
   ]
  },
  {
   "cell_type": "code",
   "execution_count": 28,
   "id": "53ee6466",
   "metadata": {},
   "outputs": [],
   "source": [
    "def get_weatherapi_history(nb_of_day,station_id,station_coord):\n",
    "    \n",
    "    # Past Days to check\n",
    "    days = [ date.today() - timedelta(delta) for delta in range(nb_of_day,0,-1) ]\n",
    "    \n",
    "    dt=days[0].strftime('%Y-%m-%d')\n",
    "    end_dt=days[-1].strftime('%Y-%m-%d')\n",
    "    \n",
    "    params = { 'key':key, 'q':station_coord, 'dt':dt,'end_dt':end_dt }\n",
    "    \n",
    "    response = requests.get(url,params)\n",
    "    jr = response.json()\n",
    "    forecasts = jr.get('forecast').get('forecastday')\n",
    "    \n",
    "    history_list = []\n",
    "\n",
    "    for f in forecasts :\n",
    "\n",
    "        dt = f['date']\n",
    "        temp = f['day']['avgtemp_c']\n",
    "        precipitation = f['day']['totalprecip_mm']\n",
    "        maxwind = f['day']['maxwind_kph']\n",
    "        condition = f['day']['condition']['text']\n",
    "\n",
    "        history_list.append((dt,temp,precipitation,maxwind,condition))\n",
    "\n",
    "    columns = [\n",
    "        'day',\n",
    "        'temperature',    # °C\n",
    "        'precipitation',  # mm\n",
    "        'maxwind',        # km/h\n",
    "        'description'       # description\n",
    "    ]\n",
    "\n",
    "    history = pd.DataFrame(history_list,columns=columns)\n",
    "    history['day'] = pd.to_datetime(history.day).dt.date # converts strings to dates\n",
    "    history['station_id'] = station_id # adds station_id column to match SQL Table\n",
    "    \n",
    "    return history"
   ]
  },
  {
   "cell_type": "markdown",
   "id": "e4546bf9",
   "metadata": {},
   "source": [
    "## Known Days in our SQL Database"
   ]
  },
  {
   "cell_type": "code",
   "execution_count": 29,
   "id": "6e90dbe3",
   "metadata": {},
   "outputs": [],
   "source": [
    "def get_sql_known_days(nb_of_days,station_id):\n",
    "    \"\"\"\n",
    "    nb_of_days : number of days to check in the db\n",
    "    station_id : the id of the concerned station\n",
    "    \"\"\"\n",
    "    \n",
    "    # Past Days to check\n",
    "    days = [ date.today() - timedelta(delta) for delta in range(nb_of_days,0,-1) ]\n",
    "    \n",
    "    days = [ d.strftime(\"%Y-%m-%d\") for d in days ] # string conversion\n",
    "\n",
    "    query = \"\"\"\n",
    "                SELECT day FROM weather \n",
    "                WHERE station_id = :st_id AND day BETWEEN :first_day AND :last_day ;\n",
    "            \"\"\"\n",
    "\n",
    "    params = { 'st_id':station_id, 'first_day':days[0], 'last_day':days[-1] }\n",
    "\n",
    "    with engine.connect() as conn:\n",
    "        result = conn.execute(text(query),params)\n",
    "\n",
    "    known_days = list(row.day for row in result)\n",
    "    \n",
    "    return known_days"
   ]
  },
  {
   "cell_type": "markdown",
   "id": "cd76661c",
   "metadata": {},
   "source": [
    "## Update the SQL DB"
   ]
  },
  {
   "cell_type": "code",
   "execution_count": 30,
   "id": "9f8dc735",
   "metadata": {},
   "outputs": [],
   "source": [
    "def update_sql_station(station_id,history,known_days):\n",
    "    \"\"\"\n",
    "    station_id : the id of the concerned station\n",
    "    history : the weather history from weatherAPI\n",
    "    known_days : list of days not to update, already in the DB\n",
    "    \"\"\"\n",
    "    \n",
    "    # Computes the unknown history dataframe\n",
    "    unknown_bi = ~history['day'].isin(known_days) # == day not in known_days\n",
    "    unknown_history = history[unknown_bi]\n",
    "    \n",
    "    # Feed the SQL weather table with these new rows\n",
    "    unknown_history.to_sql('weather',engine,if_exists='append',index=False)\n",
    "    "
   ]
  },
  {
   "cell_type": "markdown",
   "id": "ec35a1b5",
   "metadata": {},
   "source": [
    "## Updating all the stations"
   ]
  },
  {
   "cell_type": "code",
   "execution_count": 35,
   "id": "35d7f14e",
   "metadata": {
    "scrolled": false
   },
   "outputs": [
    {
     "name": "stdout",
     "output_type": "stream",
     "text": [
      "Station 6000990 : 25/25 days on the SQL DB\n",
      "Station 6000998 : 25/25 days on the SQL DB\n",
      "Station 6000993 : 25/25 days on the SQL DB\n",
      "Station 6001000 : 25/25 days on the SQL DB\n",
      "Station 6003600 : 25/25 days on the SQL DB\n",
      "Station 6002500 : 25/25 days on the SQL DB\n",
      "Station 6005500 : 25/25 days on the SQL DB\n",
      "Station 6011000 : 25/25 days on the SQL DB\n",
      "Station 6017050 : 25/25 days on the SQL DB\n",
      "Station 6017070 : 25/25 days on the SQL DB\n",
      "Station 6039500 : 25/25 days on the SQL DB\n",
      "Station 6037400 : 25/25 days on the SQL DB\n",
      "Station 6053800 : 25/25 days on the SQL DB\n",
      "Station 6045800 : 25/25 days on the SQL DB\n",
      "Station 6810010 : 25/25 days on the SQL DB\n",
      "Station 6059500 : 25/25 days on the SQL DB\n"
     ]
    }
   ],
   "source": [
    "for station_id in stations.index :\n",
    "    \n",
    "    nb_of_days = 25 # We check and update the last 25 days\n",
    "\n",
    "    station_coord = f\"{stations.loc[station_id,'lat']},{stations.loc[station_id,'lon']}\"\n",
    "\n",
    "    known_days = get_sql_known_days(nb_of_days,station_id)\n",
    "    print(f'Station {station_id} : {len(known_days)}/{nb_of_days} days on the SQL DB')\n",
    "\n",
    "    if len(known_days) < nb_of_days :\n",
    "\n",
    "        print(15*' ' + 'requesting Weather API...',end='')\n",
    "        history = get_weatherapi_history(nb_of_days,station_id,station_coord)\n",
    "        print('done')\n",
    "\n",
    "        print(15*' ' + 'Updating SQL table...',end='')\n",
    "        update_sql_station(station_id,history,known_days)\n",
    "        print('done')"
   ]
  },
  {
   "cell_type": "code",
   "execution_count": null,
   "id": "72d61b9c",
   "metadata": {},
   "outputs": [],
   "source": []
  }
 ],
 "metadata": {
  "kernelspec": {
   "display_name": "Python 3 (ipykernel)",
   "language": "python",
   "name": "python3"
  },
  "language_info": {
   "codemirror_mode": {
    "name": "ipython",
    "version": 3
   },
   "file_extension": ".py",
   "mimetype": "text/x-python",
   "name": "python",
   "nbconvert_exporter": "python",
   "pygments_lexer": "ipython3",
   "version": "3.8.12"
  },
  "toc": {
   "base_numbering": 1,
   "nav_menu": {},
   "number_sections": true,
   "sideBar": true,
   "skip_h1_title": false,
   "title_cell": "Table of Contents",
   "title_sidebar": "Contents",
   "toc_cell": false,
   "toc_position": {},
   "toc_section_display": true,
   "toc_window_display": false
  }
 },
 "nbformat": 4,
 "nbformat_minor": 5
}
