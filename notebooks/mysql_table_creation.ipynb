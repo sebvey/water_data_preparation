{
 "cells": [
  {
   "cell_type": "markdown",
   "id": "588ac13a",
   "metadata": {},
   "source": [
    "# Water Project : MySQL Table Creation\n",
    "The weather data has been gathered from WeatherAPI.com. For each station, we have stored the weather as a DataFrame in a .pickle file.\n",
    "  \n",
    "We need to store the weather data in a MySQL database on GCP :\n",
    "- WeatherAPI history can't be accessed without a subscription\n",
    "- requests a SQL is easier and quicker\n",
    "\n",
    "A MySQL database is hosted on GCP\n",
    "\n",
    "The following task are done in this Notebook :\n",
    "- MySQL connection setup, table created\n",
    "- DataFrame Loaded from '.pickle' files and reshaped\n",
    "- The MySQL table is populated"
   ]
  },
  {
   "cell_type": "code",
   "execution_count": 10,
   "id": "c5e6f16f",
   "metadata": {},
   "outputs": [],
   "source": [
    "from dotenv import dotenv_values\n",
    "import os, re\n",
    "\n",
    "import sqlalchemy\n",
    "from sqlalchemy import create_engine, text\n",
    "import pandas as pd"
   ]
  },
  {
   "cell_type": "markdown",
   "id": "de086248",
   "metadata": {},
   "source": [
    "## MySQL Setup and Table Creation\n",
    "- We use a mysql database on Google Cloud Platform\n",
    "- sqlalchemy engine is setup from variables stored in .env file\n",
    "- We create the table"
   ]
  },
  {
   "cell_type": "code",
   "execution_count": 11,
   "id": "c3cd4585",
   "metadata": {},
   "outputs": [],
   "source": [
    "# MYSQL CONFIGURATION\n",
    "\n",
    "settings = dotenv_values() # Loads settings from .env file\n",
    "ROOT='..' # relative path to the root of the project\n",
    "\n",
    "db_uri = (\n",
    "    f\"mysql+pymysql://{settings['SQL_USER']}:{settings['SQL_PWD']}\"\n",
    "    f\"@{settings['SQL_HOST']}/{settings['SQL_DB']}\"\n",
    "    f\"?ssl_ca={os.path.join(ROOT,settings['SQL_SSL_CA'])}\"\n",
    "    f\"&ssl_cert={os.path.join(ROOT,settings['SQL_SSL_CERT'])}\"\n",
    "    f\"&ssl_key={os.path.join(ROOT,settings['SQL_SSL_KEY'])}\"\n",
    "    f\"&ssl_check_hostname=false\"\n",
    ")\n",
    "\n",
    "engine = create_engine(db_uri,echo=False, future=False)"
   ]
  },
  {
   "cell_type": "code",
   "execution_count": 13,
   "id": "7f8ea18c",
   "metadata": {
    "scrolled": false
   },
   "outputs": [],
   "source": [
    "# TABLE CREATION\n",
    "\n",
    "create_query = \\\n",
    "\"\"\"\n",
    "create TABLE weather (\n",
    "    day DATE NOT NULL,\n",
    "    station_id INT NOT NULL,\n",
    "    temperature DECIMAL(3,1) NOT NULL,\n",
    "    precipitation DECIMAL(5,1) NOT NULL,\n",
    "    maxwind DECIMAL(4,1) NOT NULL,\n",
    "    description VARCHAR(255) NOT NULL,\n",
    "    CONSTRAINT pk PRIMARY KEY (day,station_id)\n",
    ");\n",
    "\"\"\"\n",
    "\n",
    "with engine.connect() as conn :\n",
    "    result = conn.execute(text(create_query))"
   ]
  },
  {
   "cell_type": "markdown",
   "id": "510e0065",
   "metadata": {},
   "source": [
    "## Loading Weather History from .pickle files\n",
    "- WeaterAPI has been used to constitute the history of weather for all the stations\n",
    "- for each station, the data is stored in a .pickle file as a DataFrame\n",
    "- file name is formatted as '<10_digits_station_id>.pickle'\n",
    "- each DataFrame needs index / columns shaping to match the DB table"
   ]
  },
  {
   "cell_type": "code",
   "execution_count": 14,
   "id": "61e31003",
   "metadata": {},
   "outputs": [],
   "source": [
    "# List of the files in '../stations' folder \n",
    "\n",
    "STATIONS_DIR = os.path.join('..','data','stations')\n",
    "els = os.listdir(STATIONS_DIR) # elements in the dir\n",
    "files = [ e for e in els if os.path.isfile(os.path.join(STATIONS_DIR,e)) ]\n",
    "\n",
    "# Restrains the list to well formatted names\n",
    "pattern = re.compile(r'^[0-9]{7}(?=.pickle)')\n",
    "files = [ f for f in files if pattern.match(f) ]\n",
    "\n",
    "# Lists the ids and paths\n",
    "ids = [ pattern.match(f).group() for f in files ]\n",
    "paths = [ os.path.join(STATIONS_DIR,f) for f in files ]"
   ]
  },
  {
   "cell_type": "code",
   "execution_count": 17,
   "id": "bf5f4e01",
   "metadata": {},
   "outputs": [],
   "source": [
    "# Reads the files and store the DataFrame in a dict\n",
    "stations = { st_id:pd.read_pickle(path) for st_id,path in zip(ids,paths) }\n",
    "\n",
    "# converts index, column names to match the mysql table\n",
    "# and adds the station ID column\n",
    "cols = ['day','temperature','precipitation','maxwind','description']\n",
    "\n",
    "for station_id,df in stations.items():\n",
    "    \n",
    "    # inplace modifications mandatory\n",
    "    # (df in for loop is just a assigned variable)\n",
    "    df.reset_index(inplace=True) \n",
    "    df.columns = cols\n",
    "    df['station_id'] = station_id"
   ]
  },
  {
   "cell_type": "markdown",
   "id": "7377f2aa",
   "metadata": {},
   "source": [
    "## Populating the Table\n",
    "We use pandas with the sqlalchemy engine to populate the table with the data"
   ]
  },
  {
   "cell_type": "code",
   "execution_count": 18,
   "id": "b1bd01ec",
   "metadata": {},
   "outputs": [],
   "source": [
    "for df in stations.values() :\n",
    "    df.to_sql('weather',engine,if_exists='append',index=False)"
   ]
  },
  {
   "cell_type": "markdown",
   "id": "6c935239",
   "metadata": {},
   "source": [
    "Below are two examples on how to load data from mysql to pandas :\n",
    "- entire table\n",
    "- from a query"
   ]
  },
  {
   "cell_type": "code",
   "execution_count": 19,
   "id": "50673a42",
   "metadata": {
    "scrolled": true
   },
   "outputs": [
    {
     "name": "stdout",
     "output_type": "stream",
     "text": [
      "<class 'pandas.core.frame.DataFrame'>\n",
      "RangeIndex: 70080 entries, 0 to 70079\n",
      "Data columns (total 6 columns):\n",
      " #   Column         Non-Null Count  Dtype         \n",
      "---  ------         --------------  -----         \n",
      " 0   day            70080 non-null  datetime64[ns]\n",
      " 1   station_id     70080 non-null  int64         \n",
      " 2   temperature    70080 non-null  float64       \n",
      " 3   precipitation  70080 non-null  float64       \n",
      " 4   maxwind        70080 non-null  float64       \n",
      " 5   description    70080 non-null  object        \n",
      "dtypes: datetime64[ns](1), float64(3), int64(1), object(1)\n",
      "memory usage: 3.2+ MB\n"
     ]
    }
   ],
   "source": [
    "# Full sql table\n",
    "\n",
    "weather = pd.read_sql_table('weather',con=engine)\n",
    "weather.info()"
   ]
  },
  {
   "cell_type": "code",
   "execution_count": 20,
   "id": "c5d450cf",
   "metadata": {},
   "outputs": [
    {
     "name": "stdout",
     "output_type": "stream",
     "text": [
      "<class 'pandas.core.frame.DataFrame'>\n",
      "RangeIndex: 366 entries, 0 to 365\n",
      "Data columns (total 6 columns):\n",
      " #   Column         Non-Null Count  Dtype  \n",
      "---  ------         --------------  -----  \n",
      " 0   day            366 non-null    object \n",
      " 1   station_id     366 non-null    int64  \n",
      " 2   temperature    366 non-null    float64\n",
      " 3   precipitation  366 non-null    float64\n",
      " 4   maxwind        366 non-null    float64\n",
      " 5   description    366 non-null    object \n",
      "dtypes: float64(3), int64(1), object(2)\n",
      "memory usage: 17.3+ KB\n"
     ]
    }
   ],
   "source": [
    "# From a query\n",
    "\n",
    "query = \"\"\"\n",
    "SELECT * FROM weather\n",
    "WHERE\n",
    "    day BETWEEN '2012-01-01' AND '2012-12-31'\n",
    "    AND station_id = 6017070\n",
    "\"\"\"\n",
    "weather_sample = pd.read_sql(query,engine)\n",
    "weather_sample.info()"
   ]
  },
  {
   "cell_type": "code",
   "execution_count": null,
   "id": "1ef78068",
   "metadata": {},
   "outputs": [],
   "source": []
  }
 ],
 "metadata": {
  "kernelspec": {
   "display_name": "Python 3 (ipykernel)",
   "language": "python",
   "name": "python3"
  },
  "language_info": {
   "codemirror_mode": {
    "name": "ipython",
    "version": 3
   },
   "file_extension": ".py",
   "mimetype": "text/x-python",
   "name": "python",
   "nbconvert_exporter": "python",
   "pygments_lexer": "ipython3",
   "version": "3.8.12"
  },
  "toc": {
   "base_numbering": 1,
   "nav_menu": {},
   "number_sections": true,
   "sideBar": true,
   "skip_h1_title": false,
   "title_cell": "Table of Contents",
   "title_sidebar": "Contents",
   "toc_cell": false,
   "toc_position": {},
   "toc_section_display": true,
   "toc_window_display": false
  }
 },
 "nbformat": 4,
 "nbformat_minor": 5
}
