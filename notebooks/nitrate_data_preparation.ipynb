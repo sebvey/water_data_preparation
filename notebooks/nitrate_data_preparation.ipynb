{
 "cells": [
  {
   "cell_type": "markdown",
   "id": "61e62ed5",
   "metadata": {},
   "source": [
    "Data extracted from http://naiades.eaufrance.fr/acces-donnees#/physicochimie  \n",
    "- **River :** Saône - id 'U---0000 -'\n",
    "- **Dates :** 2011-01-01 to 2021-12-31\n",
    "- **Parameter :** Nitrates - id '1340'\n",
    "- **Measure unit :** : mg(NO3)/L\n",
    "- **Data classification :** All"
   ]
  },
  {
   "cell_type": "code",
   "execution_count": 173,
   "id": "4d608174",
   "metadata": {},
   "outputs": [],
   "source": [
    "import pandas as pd"
   ]
  },
  {
   "cell_type": "code",
   "execution_count": 174,
   "id": "7f151457",
   "metadata": {},
   "outputs": [],
   "source": [
    "nitrates = pd.read_csv('../data/nitrates/naiades-saone-2011-2021-nitrates/Analyses.CSV',sep=';')"
   ]
  },
  {
   "cell_type": "code",
   "execution_count": 175,
   "id": "c0fd9225",
   "metadata": {},
   "outputs": [],
   "source": [
    "# Colonne pour le traitement\n",
    "used_columns = [\n",
    "    'CdStationMesureEauxSurface', # id station\n",
    "    'DatePrel',                   # date mesure\n",
    "    'HeurePrel',                  # heure de la mesure\n",
    "    'CdParametre',                # code du paramètre\n",
    "    'LbLongParamètre',            # label du paramètre\n",
    "    'RsAna',                      # resultat de la mesure\n",
    "    'CdQualAna',                  # Code de la qualification du résultat :\n",
    "                                  # 1 -> correcte / autre, à filtrer (3 -> incertaine)\n",
    "\n",
    "    'SymUniteMesure',             # symbole de l'unité de mesure (°C...)\n",
    "    'LqAna',                      # limite de quantification (sous laquelle la mesure n'est pas fidèle)\n",
    "    \n",
    "]\n"
   ]
  },
  {
   "cell_type": "code",
   "execution_count": 176,
   "id": "a955ac5e",
   "metadata": {},
   "outputs": [
    {
     "data": {
      "text/html": [
       "<div>\n",
       "<style scoped>\n",
       "    .dataframe tbody tr th:only-of-type {\n",
       "        vertical-align: middle;\n",
       "    }\n",
       "\n",
       "    .dataframe tbody tr th {\n",
       "        vertical-align: top;\n",
       "    }\n",
       "\n",
       "    .dataframe thead th {\n",
       "        text-align: right;\n",
       "    }\n",
       "</style>\n",
       "<table border=\"1\" class=\"dataframe\">\n",
       "  <thead>\n",
       "    <tr style=\"text-align: right;\">\n",
       "      <th></th>\n",
       "      <th>CdStationMesureEauxSurface</th>\n",
       "      <th>DatePrel</th>\n",
       "      <th>HeurePrel</th>\n",
       "      <th>CdParametre</th>\n",
       "      <th>LbLongParamètre</th>\n",
       "      <th>RsAna</th>\n",
       "      <th>CdQualAna</th>\n",
       "      <th>SymUniteMesure</th>\n",
       "      <th>LqAna</th>\n",
       "    </tr>\n",
       "  </thead>\n",
       "  <tbody>\n",
       "    <tr>\n",
       "      <th>0</th>\n",
       "      <td>6000990</td>\n",
       "      <td>2013-01-28</td>\n",
       "      <td>14:30:00</td>\n",
       "      <td>1340</td>\n",
       "      <td>Nitrates</td>\n",
       "      <td>4.3</td>\n",
       "      <td>1</td>\n",
       "      <td>mg(NO3)/L</td>\n",
       "      <td>1.0</td>\n",
       "    </tr>\n",
       "    <tr>\n",
       "      <th>1</th>\n",
       "      <td>6000990</td>\n",
       "      <td>2013-03-25</td>\n",
       "      <td>15:10:00</td>\n",
       "      <td>1340</td>\n",
       "      <td>Nitrates</td>\n",
       "      <td>3.8</td>\n",
       "      <td>1</td>\n",
       "      <td>mg(NO3)/L</td>\n",
       "      <td>1.0</td>\n",
       "    </tr>\n",
       "    <tr>\n",
       "      <th>2</th>\n",
       "      <td>6000990</td>\n",
       "      <td>2013-05-29</td>\n",
       "      <td>14:30:00</td>\n",
       "      <td>1340</td>\n",
       "      <td>Nitrates</td>\n",
       "      <td>3.5</td>\n",
       "      <td>1</td>\n",
       "      <td>mg(NO3)/L</td>\n",
       "      <td>1.0</td>\n",
       "    </tr>\n",
       "    <tr>\n",
       "      <th>3</th>\n",
       "      <td>6000990</td>\n",
       "      <td>2013-07-22</td>\n",
       "      <td>13:15:00</td>\n",
       "      <td>1340</td>\n",
       "      <td>Nitrates</td>\n",
       "      <td>4.9</td>\n",
       "      <td>1</td>\n",
       "      <td>mg(NO3)/L</td>\n",
       "      <td>1.0</td>\n",
       "    </tr>\n",
       "    <tr>\n",
       "      <th>4</th>\n",
       "      <td>6000990</td>\n",
       "      <td>2013-09-23</td>\n",
       "      <td>14:10:00</td>\n",
       "      <td>1340</td>\n",
       "      <td>Nitrates</td>\n",
       "      <td>5.1</td>\n",
       "      <td>1</td>\n",
       "      <td>mg(NO3)/L</td>\n",
       "      <td>1.0</td>\n",
       "    </tr>\n",
       "  </tbody>\n",
       "</table>\n",
       "</div>"
      ],
      "text/plain": [
       "   CdStationMesureEauxSurface    DatePrel HeurePrel  CdParametre  \\\n",
       "0                     6000990  2013-01-28  14:30:00         1340   \n",
       "1                     6000990  2013-03-25  15:10:00         1340   \n",
       "2                     6000990  2013-05-29  14:30:00         1340   \n",
       "3                     6000990  2013-07-22  13:15:00         1340   \n",
       "4                     6000990  2013-09-23  14:10:00         1340   \n",
       "\n",
       "  LbLongParamètre  RsAna  CdQualAna SymUniteMesure  LqAna  \n",
       "0        Nitrates    4.3          1      mg(NO3)/L    1.0  \n",
       "1        Nitrates    3.8          1      mg(NO3)/L    1.0  \n",
       "2        Nitrates    3.5          1      mg(NO3)/L    1.0  \n",
       "3        Nitrates    4.9          1      mg(NO3)/L    1.0  \n",
       "4        Nitrates    5.1          1      mg(NO3)/L    1.0  "
      ]
     },
     "execution_count": 176,
     "metadata": {},
     "output_type": "execute_result"
    }
   ],
   "source": [
    "nitrates = nitrates[used_columns]\n",
    "nitrates.head()"
   ]
  },
  {
   "cell_type": "code",
   "execution_count": 177,
   "id": "7ef219a6",
   "metadata": {},
   "outputs": [],
   "source": [
    "# Checks that all measures are Nitrates measure (CdParametre = 1340)\n",
    "# Then Drops CdParametre and LbLongParamètre columns\n",
    "assert len(nitrates[nitrates['CdParametre'] == 1340]) == len(nitrates)\n",
    "nitrates.drop(columns=['CdParametre','LbLongParamètre'],inplace = True)"
   ]
  },
  {
   "cell_type": "code",
   "execution_count": 178,
   "id": "afc01588",
   "metadata": {},
   "outputs": [],
   "source": [
    "# Filters on qualified measures\n",
    "# Then drop the column\n",
    "nitrates = nitrates[nitrates['CdQualAna'] == 1]\n",
    "nitrates.drop(columns=['CdQualAna'],inplace = True)"
   ]
  },
  {
   "cell_type": "code",
   "execution_count": 179,
   "id": "f06d18ef",
   "metadata": {},
   "outputs": [],
   "source": [
    "# Checks that all measures are above the quantification measure 'LqAna'\n",
    "# then drops the column \n",
    "assert (nitrates['RsAna'] < nitrates['LqAna']).sum() == 0\n",
    "nitrates.drop(columns=['LqAna'],inplace = True)"
   ]
  },
  {
   "cell_type": "code",
   "execution_count": 180,
   "id": "a2c450ef",
   "metadata": {},
   "outputs": [],
   "source": [
    "# Checks that all unit measure are 'mg(NO3)/L'\n",
    "# Then drops the column\n",
    "assert len(nitrates['SymUniteMesure']) == len(nitrates)\n",
    "nitrates.drop(columns=['SymUniteMesure'],inplace=True)"
   ]
  },
  {
   "cell_type": "code",
   "execution_count": 181,
   "id": "08b412de",
   "metadata": {},
   "outputs": [],
   "source": [
    "# Removes duplicates\n",
    "nitrates.duplicated().sum() # -> 3 duplicates\n",
    "nitrates.drop_duplicates(inplace=True)"
   ]
  },
  {
   "cell_type": "code",
   "execution_count": 182,
   "id": "5a111c3f",
   "metadata": {},
   "outputs": [
    {
     "data": {
      "text/html": [
       "<div>\n",
       "<style scoped>\n",
       "    .dataframe tbody tr th:only-of-type {\n",
       "        vertical-align: middle;\n",
       "    }\n",
       "\n",
       "    .dataframe tbody tr th {\n",
       "        vertical-align: top;\n",
       "    }\n",
       "\n",
       "    .dataframe thead th {\n",
       "        text-align: right;\n",
       "    }\n",
       "</style>\n",
       "<table border=\"1\" class=\"dataframe\">\n",
       "  <thead>\n",
       "    <tr style=\"text-align: right;\">\n",
       "      <th></th>\n",
       "      <th>CdStationMesureEauxSurface</th>\n",
       "      <th>DatePrel</th>\n",
       "      <th>HeurePrel</th>\n",
       "      <th>RsAna</th>\n",
       "    </tr>\n",
       "  </thead>\n",
       "  <tbody>\n",
       "    <tr>\n",
       "      <th>0</th>\n",
       "      <td>6000990</td>\n",
       "      <td>2013-01-28</td>\n",
       "      <td>14:30:00</td>\n",
       "      <td>4.3</td>\n",
       "    </tr>\n",
       "    <tr>\n",
       "      <th>1</th>\n",
       "      <td>6000990</td>\n",
       "      <td>2013-03-25</td>\n",
       "      <td>15:10:00</td>\n",
       "      <td>3.8</td>\n",
       "    </tr>\n",
       "    <tr>\n",
       "      <th>2</th>\n",
       "      <td>6000990</td>\n",
       "      <td>2013-05-29</td>\n",
       "      <td>14:30:00</td>\n",
       "      <td>3.5</td>\n",
       "    </tr>\n",
       "    <tr>\n",
       "      <th>3</th>\n",
       "      <td>6000990</td>\n",
       "      <td>2013-07-22</td>\n",
       "      <td>13:15:00</td>\n",
       "      <td>4.9</td>\n",
       "    </tr>\n",
       "    <tr>\n",
       "      <th>4</th>\n",
       "      <td>6000990</td>\n",
       "      <td>2013-09-23</td>\n",
       "      <td>14:10:00</td>\n",
       "      <td>5.1</td>\n",
       "    </tr>\n",
       "  </tbody>\n",
       "</table>\n",
       "</div>"
      ],
      "text/plain": [
       "   CdStationMesureEauxSurface    DatePrel HeurePrel  RsAna\n",
       "0                     6000990  2013-01-28  14:30:00    4.3\n",
       "1                     6000990  2013-03-25  15:10:00    3.8\n",
       "2                     6000990  2013-05-29  14:30:00    3.5\n",
       "3                     6000990  2013-07-22  13:15:00    4.9\n",
       "4                     6000990  2013-09-23  14:10:00    5.1"
      ]
     },
     "execution_count": 182,
     "metadata": {},
     "output_type": "execute_result"
    }
   ],
   "source": [
    "nitrates.head()"
   ]
  },
  {
   "cell_type": "code",
   "execution_count": 183,
   "id": "6f144fdf",
   "metadata": {},
   "outputs": [],
   "source": [
    "# Meaning time precision is the day\n",
    "# Measures done the same day on the same station are averaged\n",
    "\n",
    "nitrates[['CdStationMesureEauxSurface','DatePrel']].duplicated(keep=False).sum()\n",
    "# 73 measures are concerned (not unique measures, considering the date and the station)\n",
    "\n",
    "first = lambda x : x.iloc[0] # aggregate function to keep the first entry of a group\n",
    "nitrates = nitrates.groupby(['CdStationMesureEauxSurface','DatePrel'],as_index=False).agg({'RsAna':'mean','HeurePrel':first})\n"
   ]
  },
  {
   "cell_type": "code",
   "execution_count": 184,
   "id": "a2f5ee6b",
   "metadata": {},
   "outputs": [],
   "source": [
    "# Converts 'DatePrel' to datetime, drops HeurePrel (meaningless information)\n",
    "nitrates['DatePrel'] = pd.to_datetime( nitrates['DatePrel'])\n",
    "nitrates.drop(columns=['HeurePrel'],inplace=True)"
   ]
  },
  {
   "cell_type": "code",
   "execution_count": 185,
   "id": "818a5e5e",
   "metadata": {},
   "outputs": [],
   "source": [
    "column_names = [\n",
    "    'station_id',\n",
    "    'day',\n",
    "    'measure'\n",
    "]\n",
    "nitrates.columns = column_names"
   ]
  },
  {
   "cell_type": "code",
   "execution_count": 186,
   "id": "4323c699",
   "metadata": {},
   "outputs": [],
   "source": [
    "nitrates.to_csv('../data/nitrates/saone_2011_2021.csv')"
   ]
  }
 ],
 "metadata": {
  "kernelspec": {
   "display_name": "Python 3 (ipykernel)",
   "language": "python",
   "name": "python3"
  },
  "language_info": {
   "codemirror_mode": {
    "name": "ipython",
    "version": 3
   },
   "file_extension": ".py",
   "mimetype": "text/x-python",
   "name": "python",
   "nbconvert_exporter": "python",
   "pygments_lexer": "ipython3",
   "version": "3.8.12"
  },
  "toc": {
   "base_numbering": 1,
   "nav_menu": {},
   "number_sections": true,
   "sideBar": true,
   "skip_h1_title": false,
   "title_cell": "Table of Contents",
   "title_sidebar": "Contents",
   "toc_cell": false,
   "toc_position": {},
   "toc_section_display": true,
   "toc_window_display": false
  }
 },
 "nbformat": 4,
 "nbformat_minor": 5
}
